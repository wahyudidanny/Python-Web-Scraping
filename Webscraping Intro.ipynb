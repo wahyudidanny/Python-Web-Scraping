{
 "cells": [
  {
   "cell_type": "code",
   "execution_count": 6,
   "metadata": {},
   "outputs": [
    {
     "data": {
      "text/plain": [
       "<span class=\"noCSS\">Skip to:</span>"
      ]
     },
     "execution_count": 6,
     "metadata": {},
     "output_type": "execute_result"
    }
   ],
   "source": [
    "import bs4\n",
    "from urllib.request import urlopen as uReq\n",
    "from bs4 import BeautifulSoup as soup\n",
    "\n",
    "my_url = 'https://www.newegg.com/global/id-en/Product/ProductList.aspx?Submit=ENE&DEPA=0&Order=BESTMATCH&Description=graphic+card&N=-1&isNodeId=1'\n",
    "#opening up the connection, grab the page\n",
    "uClient = uReq(my_url)\n",
    "page_html= uClient.read()\n",
    "uClient.close()\n",
    "#html Parsing\n",
    "page_soup = soup(page_html,\"html.parser\")\n",
    "page_soup.h1\n",
    "page_soup.p\n",
    "page_soup.body.span"
   ]
  },
  {
   "cell_type": "code",
   "execution_count": 7,
   "metadata": {},
   "outputs": [
    {
     "data": {
      "text/plain": [
       "40"
      ]
     },
     "execution_count": 7,
     "metadata": {},
     "output_type": "execute_result"
    }
   ],
   "source": [
    "#grab each products\n",
    "containers = page_soup.findAll(\"div\",{\"class\":\"item-container\"})\n",
    "len(containers)"
   ]
  },
  {
   "cell_type": "code",
   "execution_count": 8,
   "metadata": {},
   "outputs": [
    {
     "data": {
      "text/plain": [
       "<div class=\"item-container\" data-itemnumber=\"20-232-768\">\n",
       "<a class=\"item-img\" href=\"https://www.newegg.com/global/id-en/Product/Product.aspx?Item=20-232-768&amp;cm_sp=SearchSuccess-_-INFOCARD-_-graphic+card-_-20-232-768-_-1&amp;Description=graphic+card\">\n",
       "<img alt=\"G.SKILL TridentZ RGB Series 32GB (2 x 16GB) 288-Pin DDR4 SDRAM DDR4 4000 (PC4 32000) Desktop Memory Model F4-4000C19D-32GTZR\" src=\"//c1.neweggimages.com/ProductImageCompressAll300/20-232-768-V01.jpg\" title=\"G.SKILL TridentZ RGB Series 32GB (2 x 16GB) 288-Pin DDR4 SDRAM DDR4 4000 (PC4 32000) Desktop Memory Model F4-4000C19D-32GTZR\"/>\n",
       "</a>\n",
       "<div class=\"item-info\">\n",
       "<div class=\"item-branding\">\n",
       "<a class=\"item-rating\" href=\"https://www.newegg.com/global/id-en/Product/Product.aspx?Item=20-232-768&amp;cm_sp=SearchSuccess-_-INFOCARD-_-graphic+card-_-20-232-768-_-1&amp;Description=graphic+card&amp;IsFeedbackTab=true#scrollFullInfo\"><i class=\"rating rating-5\"></i><span class=\"item-rating-num\">(1)</span></a>\n",
       "</div>\n",
       "<a class=\"item-title\" href=\"https://www.newegg.com/global/id-en/Product/Product.aspx?Item=20-232-768&amp;cm_sp=SearchSuccess-_-INFOCARD-_-graphic+card-_-20-232-768-_-1&amp;Description=graphic+card\">\n",
       "                            \n",
       "                            G.SKILL TridentZ RGB Series 32GB (2 x 16GB) 288-Pin DDR4 SDRAM DDR4 4000 (PC4...\n",
       "                        </a>\n",
       "</div>\n",
       "</div>"
      ]
     },
     "execution_count": 8,
     "metadata": {},
     "output_type": "execute_result"
    }
   ],
   "source": [
    "containers[0]"
   ]
  },
  {
   "cell_type": "code",
   "execution_count": null,
   "metadata": {},
   "outputs": [],
   "source": []
  }
 ],
 "metadata": {
  "kernelspec": {
   "display_name": "Python 3",
   "language": "python",
   "name": "python3"
  },
  "language_info": {
   "codemirror_mode": {
    "name": "ipython",
    "version": 3
   },
   "file_extension": ".py",
   "mimetype": "text/x-python",
   "name": "python",
   "nbconvert_exporter": "python",
   "pygments_lexer": "ipython3",
   "version": "3.7.0"
  }
 },
 "nbformat": 4,
 "nbformat_minor": 2
}
